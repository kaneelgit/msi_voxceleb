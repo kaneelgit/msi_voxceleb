{
  "nbformat": 4,
  "nbformat_minor": 0,
  "metadata": {
    "colab": {
      "name": "Multimodal_classification.ipynb",
      "provenance": [],
      "authorship_tag": "ABX9TyOyR6Wx+11lPdU4arYEiNBv",
      "include_colab_link": true
    },
    "kernelspec": {
      "name": "python3",
      "display_name": "Python 3"
    },
    "language_info": {
      "name": "python"
    },
    "accelerator": "GPU"
  },
  "cells": [
    {
      "cell_type": "markdown",
      "metadata": {
        "id": "view-in-github",
        "colab_type": "text"
      },
      "source": [
        "<a href=\"https://colab.research.google.com/github/kaneelgit/msi_voxceleb/blob/main/Model_comparisons.ipynb\" target=\"_parent\"><img src=\"https://colab.research.google.com/assets/colab-badge.svg\" alt=\"Open In Colab\"/></a>"
      ]
    },
    {
      "cell_type": "markdown",
      "metadata": {
        "id": "cvnvL5rfm9HY"
      },
      "source": [
        "<font size = '6'> <center>**Model Comparison**</center></font>\n",
        "\n",
        "Here I am combining the two models based on bayesian cue combination. I use the trained video and audio models and will be combining them based on the precision of each data source. Here I will be assuming that both audio and video data are 100% precise for simplicity. Then I will be compairing the three model performances in the end. \n",
        "\n",
        "VoxCeleb dataset - https://www.robots.ox.ac.uk/~vgg/data/voxceleb/"
      ]
    },
    {
      "cell_type": "code",
      "metadata": {
        "id": "6hUyLehvmr4m",
        "colab": {
          "base_uri": "https://localhost:8080/"
        },
        "outputId": "ee15f110-944b-4e4c-fae6-6fcfbebcf2cb"
      },
      "source": [
        "#import libraries\n",
        "from urllib.request import urlopen\n",
        "from zipfile import ZipFile\n",
        "\n",
        "from IPython.display import HTML\n",
        "from base64 import b64encode\n",
        "import matplotlib.pyplot as plt\n",
        "\n",
        "import os\n",
        "import glob\n",
        "import numpy as np\n",
        "import pandas as pd\n",
        "import cv2     # for capturing videos\n",
        "import math\n",
        "import random\n",
        "\n",
        "import moviepy.editor as mp\n",
        "from IPython.display import clear_output\n",
        "\n",
        "import IPython\n",
        "import librosa\n",
        "\n",
        "from scipy.io import wavfile\n",
        "import os\n",
        "import tensorflow as tf"
      ],
      "execution_count": null,
      "outputs": [
        {
          "output_type": "stream",
          "name": "stdout",
          "text": [
            "Imageio: 'ffmpeg-linux64-v3.3.1' was not found on your computer; downloading it now.\n",
            "Try 1. Download from https://github.com/imageio/imageio-binaries/raw/master/ffmpeg/ffmpeg-linux64-v3.3.1 (43.8 MB)\n",
            "Downloading: 8192/45929032 bytes (0.0%)\b\b\b\b\b\b\b\b\b\b\b\b\b\b\b\b\b\b\b\b\b\b\b\b\b\b2260992/45929032 bytes (4.9%)\b\b\b\b\b\b\b\b\b\b\b\b\b\b\b\b\b\b\b\b\b\b\b\b\b\b\b\b\b5480448/45929032 bytes (11.9%)\b\b\b\b\b\b\b\b\b\b\b\b\b\b\b\b\b\b\b\b\b\b\b\b\b\b\b\b\b\b8486912/45929032 bytes (18.5%)\b\b\b\b\b\b\b\b\b\b\b\b\b\b\b\b\b\b\b\b\b\b\b\b\b\b\b\b\b\b11870208/45929032 bytes (25.8%)\b\b\b\b\b\b\b\b\b\b\b\b\b\b\b\b\b\b\b\b\b\b\b\b\b\b\b\b\b\b\b15425536/45929032 bytes (33.6%)\b\b\b\b\b\b\b\b\b\b\b\b\b\b\b\b\b\b\b\b\b\b\b\b\b\b\b\b\b\b\b18841600/45929032 bytes (41.0%)\b\b\b\b\b\b\b\b\b\b\b\b\b\b\b\b\b\b\b\b\b\b\b\b\b\b\b\b\b\b\b22339584/45929032 bytes (48.6%)\b\b\b\b\b\b\b\b\b\b\b\b\b\b\b\b\b\b\b\b\b\b\b\b\b\b\b\b\b\b\b25632768/45929032 bytes (55.8%)\b\b\b\b\b\b\b\b\b\b\b\b\b\b\b\b\b\b\b\b\b\b\b\b\b\b\b\b\b\b\b28614656/45929032 bytes (62.3%)\b\b\b\b\b\b\b\b\b\b\b\b\b\b\b\b\b\b\b\b\b\b\b\b\b\b\b\b\b\b\b31907840/45929032 bytes (69.5%)\b\b\b\b\b\b\b\b\b\b\b\b\b\b\b\b\b\b\b\b\b\b\b\b\b\b\b\b\b\b\b35160064/45929032 bytes (76.6%)\b\b\b\b\b\b\b\b\b\b\b\b\b\b\b\b\b\b\b\b\b\b\b\b\b\b\b\b\b\b\b38363136/45929032 bytes (83.5%)\b\b\b\b\b\b\b\b\b\b\b\b\b\b\b\b\b\b\b\b\b\b\b\b\b\b\b\b\b\b\b41623552/45929032 bytes (90.6%)\b\b\b\b\b\b\b\b\b\b\b\b\b\b\b\b\b\b\b\b\b\b\b\b\b\b\b\b\b\b\b44924928/45929032 bytes (97.8%)\b\b\b\b\b\b\b\b\b\b\b\b\b\b\b\b\b\b\b\b\b\b\b\b\b\b\b\b\b\b\b45929032/45929032 bytes (100.0%)\n",
            "  Done\n",
            "File saved as /root/.imageio/ffmpeg/ffmpeg-linux64-v3.3.1.\n"
          ]
        }
      ]
    },
    {
      "cell_type": "markdown",
      "metadata": {
        "id": "bAYmTkGOoAmR"
      },
      "source": [
        "# **Download and unzip the data**"
      ]
    },
    {
      "cell_type": "code",
      "metadata": {
        "id": "zQI9vcEWoEUZ",
        "colab": {
          "base_uri": "https://localhost:8080/"
        },
        "outputId": "b8aa37fa-994f-47ce-e489-8b91c50ef8de"
      },
      "source": [
        "#get url\n",
        "!wget \"https://thor.robots.ox.ac.uk/~vgg/data/voxceleb/vox1a/vox2_test_mp4.zip\""
      ],
      "execution_count": null,
      "outputs": [
        {
          "output_type": "stream",
          "name": "stdout",
          "text": [
            "--2021-10-31 13:32:08--  https://thor.robots.ox.ac.uk/~vgg/data/voxceleb/vox1a/vox2_test_mp4.zip\n",
            "Resolving thor.robots.ox.ac.uk (thor.robots.ox.ac.uk)... 129.67.95.98\n",
            "Connecting to thor.robots.ox.ac.uk (thor.robots.ox.ac.uk)|129.67.95.98|:443... connected.\n",
            "HTTP request sent, awaiting response... 200 OK\n",
            "Length: 8906971319 (8.3G) [application/zip]\n",
            "Saving to: ‘vox2_test_mp4.zip’\n",
            "\n",
            "vox2_test_mp4.zip   100%[===================>]   8.29G  11.8MB/s    in 12m 36s \n",
            "\n",
            "2021-10-31 13:44:45 (11.2 MB/s) - ‘vox2_test_mp4.zip’ saved [8906971319/8906971319]\n",
            "\n"
          ]
        }
      ]
    },
    {
      "cell_type": "code",
      "metadata": {
        "id": "AOF5ENJXocup"
      },
      "source": [
        "!unzip vox2_test_mp4.zip"
      ],
      "execution_count": null,
      "outputs": []
    },
    {
      "cell_type": "markdown",
      "metadata": {
        "id": "XG7Ew3wIohXL"
      },
      "source": [
        "# **Organizing the data**\n",
        "\n",
        "In the cells below I am collecting all the video paths in a list. I will be then using these videos to extract the audios and their spectrograms to feed in to the neural network."
      ]
    },
    {
      "cell_type": "code",
      "metadata": {
        "id": "TWY6HS5qolDv",
        "colab": {
          "base_uri": "https://localhost:8080/"
        },
        "outputId": "3f622a4d-fcd8-48d0-d712-304d2f59247d"
      },
      "source": [
        "#get video paths\n",
        "vid_paths = []\n",
        "\n",
        "for path, directories, files in os.walk('/content/mp4/'):\n",
        "\n",
        "  for file in files:\n",
        "\n",
        "    vid_paths.append(str(path) + '/' + str(file))\n",
        "\n",
        "#number of videos available\n",
        "print('Number of videos available: ', len(vid_paths))\n",
        "\n",
        "#shuffle video paths. I have used a random seed of 4 to shuffle.\n",
        "random.seed(10)\n",
        "random.shuffle(vid_paths)"
      ],
      "execution_count": null,
      "outputs": [
        {
          "output_type": "stream",
          "name": "stdout",
          "text": [
            "Number of videos available:  36237\n"
          ]
        }
      ]
    },
    {
      "cell_type": "markdown",
      "metadata": {
        "id": "Hv9uwkDDo3M2"
      },
      "source": [
        "# **Upload the CSV file and clean meta data**\n",
        "\n",
        "\n",
        "The csv file with meta data is in my github repository. (https://github.com/kaneelgit/msi_voxceleb). You have to upload the csv file to colab before running the following cells."
      ]
    },
    {
      "cell_type": "code",
      "metadata": {
        "id": "eG7zdCMeo7M7",
        "colab": {
          "base_uri": "https://localhost:8080/",
          "height": 203
        },
        "outputId": "d7f5bd8f-3b6f-49ea-8e53-597b687ff527"
      },
      "source": [
        "#some functions to clean the csv file\n",
        "#del spaces from the ids and gender\n",
        "def del_spaces(string):\n",
        "  \n",
        "  string = string.replace(' ', '')\n",
        "\n",
        "  return string\n",
        "\n",
        "#upload csv file from github before running\n",
        "#open csv file\n",
        "df = pd.read_csv('/content/vox2_meta.csv')\n",
        "df.head(5)\n",
        "\n",
        "#clean the dataset\n",
        "\n",
        "#apply the function to get rid of spaces\n",
        "df['VoxCeleb2 ID'] = df['VoxCeleb2 ID'].apply(del_spaces)\n",
        "df['VGGFace2 ID'] = df['VGGFace2 ID'].apply(del_spaces)\n",
        "df['Gender'] = df['Gender'].apply(del_spaces)\n",
        "df['Set'] = df['Set'].apply(del_spaces)\n",
        "\n",
        "\n",
        "#get the test data\n",
        "df2 = df[df['Set'] == 'test']\n",
        "df2['Gender'] = df2['Gender'].astype('category')\n",
        "\n",
        "df2.head(5)"
      ],
      "execution_count": null,
      "outputs": [
        {
          "output_type": "execute_result",
          "data": {
            "text/html": [
              "<div>\n",
              "<style scoped>\n",
              "    .dataframe tbody tr th:only-of-type {\n",
              "        vertical-align: middle;\n",
              "    }\n",
              "\n",
              "    .dataframe tbody tr th {\n",
              "        vertical-align: top;\n",
              "    }\n",
              "\n",
              "    .dataframe thead th {\n",
              "        text-align: right;\n",
              "    }\n",
              "</style>\n",
              "<table border=\"1\" class=\"dataframe\">\n",
              "  <thead>\n",
              "    <tr style=\"text-align: right;\">\n",
              "      <th></th>\n",
              "      <th>VoxCeleb2 ID</th>\n",
              "      <th>VGGFace2 ID</th>\n",
              "      <th>Gender</th>\n",
              "      <th>Set</th>\n",
              "    </tr>\n",
              "  </thead>\n",
              "  <tbody>\n",
              "    <tr>\n",
              "      <th>3</th>\n",
              "      <td>id00017</td>\n",
              "      <td>n000017</td>\n",
              "      <td>m</td>\n",
              "      <td>test</td>\n",
              "    </tr>\n",
              "    <tr>\n",
              "      <th>36</th>\n",
              "      <td>id00061</td>\n",
              "      <td>n000061</td>\n",
              "      <td>m</td>\n",
              "      <td>test</td>\n",
              "    </tr>\n",
              "    <tr>\n",
              "      <th>53</th>\n",
              "      <td>id00081</td>\n",
              "      <td>n000081</td>\n",
              "      <td>m</td>\n",
              "      <td>test</td>\n",
              "    </tr>\n",
              "    <tr>\n",
              "      <th>89</th>\n",
              "      <td>id00154</td>\n",
              "      <td>n000154</td>\n",
              "      <td>m</td>\n",
              "      <td>test</td>\n",
              "    </tr>\n",
              "    <tr>\n",
              "      <th>271</th>\n",
              "      <td>id00419</td>\n",
              "      <td>n000419</td>\n",
              "      <td>f</td>\n",
              "      <td>test</td>\n",
              "    </tr>\n",
              "  </tbody>\n",
              "</table>\n",
              "</div>"
            ],
            "text/plain": [
              "    VoxCeleb2 ID VGGFace2 ID Gender   Set\n",
              "3        id00017     n000017      m  test\n",
              "36       id00061     n000061      m  test\n",
              "53       id00081     n000081      m  test\n",
              "89       id00154     n000154      m  test\n",
              "271      id00419     n000419      f  test"
            ]
          },
          "metadata": {},
          "execution_count": 7
        }
      ]
    },
    {
      "cell_type": "markdown",
      "metadata": {
        "id": "-XRcch4RpFwr"
      },
      "source": [
        "# **Create a Labels List**\n",
        "\n",
        "Here I am going through the ids of all the video files and picking the gender from the CSV file. Note that there are double the size of male videos compared to female. So I will be taking every other video file to balance the dataset."
      ]
    },
    {
      "cell_type": "code",
      "metadata": {
        "id": "8xfWWVIhpMmF"
      },
      "source": [
        "#iterate through the vid_paths get the id of the person and get if the person is female or male. If the person is male its a 1 and female its a 0\n",
        "labels = []\n",
        "\n",
        "#get only half of the male videos.\n",
        "count = 0\n",
        "video_files = []\n",
        "\n",
        "#iterate\n",
        "for path in vid_paths:\n",
        "  \n",
        "  #get id number\n",
        "  id_str =  path[13:20]\n",
        "\n",
        "  #get if the subject is male or female from the csv\n",
        "  gender = df2.loc[df2['VoxCeleb2 ID'] == str(id_str)]['Gender'].values[0]\n",
        "\n",
        "  if gender == 'm':\n",
        "    if count % 2 == 0:\n",
        "      labels.append(1)\n",
        "      video_files.append(path)\n",
        "    count += 1\n",
        "  \n",
        "  else:\n",
        "    labels.append(0)\n",
        "    video_files.append(path)"
      ],
      "execution_count": null,
      "outputs": []
    },
    {
      "cell_type": "code",
      "metadata": {
        "id": "n6npGYWgwKjM"
      },
      "source": [
        "def convert_data(path):\n",
        "\n",
        "  #get label\n",
        "  id_str =  path[13:20]\n",
        "\n",
        "  #get if the subject is male or female from the csv\n",
        "  gender = df2.loc[df2['VoxCeleb2 ID'] == str(id_str)]['Gender'].values[0]\n",
        "\n",
        "  label = 1 if gender == 'm' else 0\n",
        "\n",
        "  #video processing\n",
        "  video = mp.VideoFileClip(path).subclip(0, 3)\n",
        "\n",
        "  #imag\n",
        "  imag = video.get_frame(0)/255\n",
        "\n",
        "  #audio processing\n",
        "  audio = video.audio.to_soundarray()\n",
        "\n",
        "  #sampling rate\n",
        "  fs = 44100\n",
        "  \n",
        "  #channel 1\n",
        "  ch1 = librosa.feature.melspectrogram(audio[:, 0], sr = fs)\n",
        "  mel_ch1 = librosa.amplitude_to_db(ch1, ref = np.min)\n",
        "\n",
        "  return imag, mel_ch1.reshape(mel_ch1.shape[0], mel_ch1.shape[1], 1), label"
      ],
      "execution_count": null,
      "outputs": []
    },
    {
      "cell_type": "markdown",
      "metadata": {
        "id": "6D3f6wPvpv6a"
      },
      "source": [
        "# **Compairing Models**\n",
        "\n",
        "First I will recreate the audio and video model architectures since I only saved the weights of each model.  "
      ]
    },
    {
      "cell_type": "code",
      "metadata": {
        "id": "zeoq7LF33gxZ"
      },
      "source": [
        "import numpy as np\n",
        "import matplotlib.pyplot as plt\n",
        "\n",
        "import tensorflow as tf\n",
        "import numpy as np\n",
        "import scipy.misc\n",
        "from tensorflow.keras.applications.resnet_v2 import ResNet50V2\n",
        "from tensorflow.keras.preprocessing import image\n",
        "from tensorflow.keras.applications.resnet_v2 import preprocess_input, decode_predictions\n",
        "from tensorflow.keras import layers\n",
        "from tensorflow.keras.layers import Input, Add, Dense, Average, Activation, BatchNormalization, Flatten, Conv2D, AveragePooling2D, MaxPooling2D, GlobalMaxPooling2D, Dropout, Concatenate\n",
        "from tensorflow.keras.models import Model, load_model\n",
        "from tensorflow.keras.initializers import random_uniform, glorot_uniform, constant, identity\n",
        "from tensorflow.python.framework.ops import EagerTensor\n",
        "from tensorflow.python.keras.utils.vis_utils import plot_model\n",
        "\n"
      ],
      "execution_count": null,
      "outputs": []
    },
    {
      "cell_type": "code",
      "metadata": {
        "id": "zNMxNShcw_ri"
      },
      "source": [
        "#Audio Model\n",
        "def aud_model(x):\n",
        "    \n",
        "    inputs = x\n",
        "    x = tf.keras.layers.Conv2D(16, kernel_size = (3, 3),activation = 'relu')(inputs)\n",
        "    x = tf.keras.layers.BatchNormalization()(x)\n",
        "    x = tf.keras.layers.MaxPool2D(pool_size = (2, 2))(x)\n",
        "    \n",
        "    x = tf.keras.layers.Conv2D(32, kernel_size = (3, 3), activation = 'relu')(x)\n",
        "    x = tf.keras.layers.BatchNormalization()(x)\n",
        "    x = tf.keras.layers.MaxPool2D(pool_size = (2, 2))(x)\n",
        "    \n",
        "    x = tf.keras.layers.Conv2D(64, kernel_size = (3, 3), activation = 'relu')(x) \n",
        "    x = tf.keras.layers.BatchNormalization()(x)\n",
        "    x = tf.keras.layers.MaxPool2D(pool_size = (2, 2))(x)\n",
        "   \n",
        "    return x\n",
        "\n",
        "#input\n",
        "input_samp = np.zeros([16, 128, 259, 1])\n",
        "\n",
        "#input\n",
        "input = Input(input_samp[0, :].shape, name = 'audio')\n",
        "out = aud_model(input)\n",
        "out = Flatten()(out)\n",
        "out = Dropout(0.5)(out)\n",
        "out = Dense(1024, activation = 'relu')(out)\n",
        "out = Dropout(0.8)(out)\n",
        "out = Dense(128, activation = 'relu')(out)\n",
        "output = Dense(1, activation = 'sigmoid', name = 'class')(out)\n",
        "\n",
        "#create the model\n",
        "audio_model = Model(input, output)\n",
        "audio_model.load_weights('audition.h5')"
      ],
      "execution_count": null,
      "outputs": []
    },
    {
      "cell_type": "code",
      "metadata": {
        "id": "JAu3P3wAc6fi"
      },
      "source": [
        "#Video Model\n",
        "def vid_model(x):\n",
        "    \n",
        "    inputs = x\n",
        "    x = tf.keras.layers.Conv2D(16, kernel_size = (3, 3),activation = 'relu')(inputs)\n",
        "    x = tf.keras.layers.BatchNormalization()(x)\n",
        "    x = tf.keras.layers.MaxPool2D(pool_size = (2, 2))(x)\n",
        "    \n",
        "    x = tf.keras.layers.Conv2D(32, kernel_size = (3, 3), activation = 'relu')(x)\n",
        "    x = tf.keras.layers.BatchNormalization()(x)\n",
        "    x = tf.keras.layers.MaxPool2D(pool_size = (2, 2))(x)\n",
        "    \n",
        "    x = tf.keras.layers.Conv2D(64, kernel_size = (6, 6), activation = 'relu')(x) \n",
        "    x = tf.keras.layers.BatchNormalization()(x)\n",
        "    x = tf.keras.layers.MaxPool2D(pool_size = (2, 2))(x)\n",
        "\n",
        "    return x\n",
        "\n",
        "#input\n",
        "input_samp = np.zeros([16, 224, 224, 3])\n",
        "\n",
        "#input\n",
        "input = Input(input_samp[0, :].shape, name = 'video')\n",
        "out = vid_model(input)\n",
        "out = Flatten()(out)\n",
        "out = Dropout(0.5)(out)\n",
        "out = Dense(1024, activation = 'relu')(out)\n",
        "out = Dense(128, activation = 'relu')(out)\n",
        "output = Dense(1, activation = 'sigmoid', name = 'class')(out)\n",
        "\n",
        "#create the model\n",
        "video_model = Model(input, output)\n",
        "video_model.load_weights('vision.h5')"
      ],
      "execution_count": null,
      "outputs": []
    },
    {
      "cell_type": "markdown",
      "metadata": {
        "id": "DucKIrtS83JG"
      },
      "source": [
        "## **Functions that predict if male or female given data**\n",
        "\n",
        "Here I am creating three functions (audio, video and bimodal) that predicts if the given data is of a female or a male. \n",
        "\n",
        "For the bimodal prediction, I will be using the bayesian cue combination model. I will be weighting the video and audio data by it's precision. The default precision value is set to 1. In this case I will be using precisions for both video and audio data to be 1. In other words I am assuming that data by both sources are 100% precise. So the bimodal prediction in this case will be just the average of the video and audio prediction. "
      ]
    },
    {
      "cell_type": "code",
      "metadata": {
        "id": "9knIGvhfn07u"
      },
      "source": [
        "#create audio only video only and multimodel prediction functions\n",
        "def aud_pred(aud_array):\n",
        "  #reshape the audio array\n",
        "  aud_array = aud_array.reshape(1, aud_array.shape[0], aud_array.shape[1], aud_array.shape[2])\n",
        "  #calculate the prediction\n",
        "  pred = audio_model.predict(aud_array)[0][0]\n",
        "\n",
        "  return 1 if pred >= 0.5 else 0\n",
        "\n",
        "def vid_pred(vid_array):\n",
        "  #reshape the video array\n",
        "  vid_array = vid_array.reshape(1, vid_array.shape[0], vid_array.shape[1], vid_array.shape[2])\n",
        "  #calculate the prediction\n",
        "  pred = video_model.predict(vid_array)[0][0]\n",
        "\n",
        "  return 1 if pred >= 0.5 else 0\n",
        "\n",
        "def bimod_pred(vid_array, aud_array, vid_prec = 1, aud_prec = 1):\n",
        "  #reshape arrays\n",
        "  aud_array = aud_array.reshape(1, aud_array.shape[0], aud_array.shape[1], aud_array.shape[2])\n",
        "  vid_array = vid_array.reshape(1, vid_array.shape[0], vid_array.shape[1], vid_array.shape[2])\n",
        "\n",
        "  #predictions\n",
        "  aud_pred = audio_model.predict(aud_array)[0][0]\n",
        "\n",
        "  #video prediction\n",
        "  vid_pred = video_model.predict(vid_array)[0][0]\n",
        "\n",
        "  #calculate bimodal outcome\n",
        "  bimod_pred = vid_prec/(aud_prec + vid_prec) * vid_pred + aud_prec/(aud_prec + vid_prec) * aud_pred\n",
        "\n",
        "  return 1 if bimod_pred >= 0.5 else 0\n"
      ],
      "execution_count": null,
      "outputs": []
    },
    {
      "cell_type": "markdown",
      "metadata": {
        "id": "tO4k0tW2-L9-"
      },
      "source": [
        "## **Calculate accuracies of the three Models**"
      ]
    },
    {
      "cell_type": "code",
      "metadata": {
        "id": "1MOpcI9Ds3yx"
      },
      "source": [
        "#get data\n",
        "random_idx = np.random.choice(np.arange(0, len(video_files)), 1000)\n",
        "\n",
        "#Convert these to 10 batches\n",
        "batches = [random_idx[i : i + 100] for i in range(0, len(random_idx), 100)]\n"
      ],
      "execution_count": null,
      "outputs": []
    },
    {
      "cell_type": "code",
      "metadata": {
        "id": "PvebST9iteIr"
      },
      "source": [
        "#calculate the accuracies\n",
        "vid_acc = []\n",
        "aud_acc = []\n",
        "bimod_acc = []\n",
        "\n",
        "for batch in batches:\n",
        "  #arrays for each batch data \n",
        "  vid = []\n",
        "  aud = []\n",
        "  bimod = []\n",
        "\n",
        "  for idx in batch:\n",
        "    \n",
        "    #get path\n",
        "    path = video_files[idx]\n",
        "\n",
        "    #get image, audio and label\n",
        "    img, audio, label = convert_data(path)\n",
        "    \n",
        "    #make predictions\n",
        "    vid_prediction = vid_pred(img)\n",
        "    aud_prediction = aud_pred(audio)\n",
        "    bimod_prediction = bimod_pred(img, audio)\n",
        "\n",
        "    #collect data\n",
        "    vid.append(1 if vid_prediction == label else 0)\n",
        "    aud.append(1 if aud_prediction == label else 0)\n",
        "    bimod.append(1 if bimod_prediction == label else 0)\n",
        "\n",
        "  #calculate the accuracies\n",
        "  video_batch_acc = np.sum(vid)/len(vid)\n",
        "  audio_batch_acc = np.sum(aud)/len(aud)\n",
        "  bimod_batch_acc = np.sum(bimod)/len(bimod)\n",
        "\n",
        "  #append data\n",
        "  vid_acc.append(video_batch_acc)\n",
        "  aud_acc.append(audio_batch_acc)\n",
        "  bimod_acc.append(bimod_batch_acc)\n"
      ],
      "execution_count": null,
      "outputs": []
    },
    {
      "cell_type": "markdown",
      "metadata": {
        "id": "k2pzeIsy-c_H"
      },
      "source": [
        "# **Plotting results**"
      ]
    },
    {
      "cell_type": "code",
      "metadata": {
        "id": "jPM4vQt6t8CK",
        "colab": {
          "base_uri": "https://localhost:8080/",
          "height": 369
        },
        "outputId": "f415dec4-004e-45c3-c518-e5a0935c84f5"
      },
      "source": [
        "#bar plot with accuracies\n",
        "#means\n",
        "video_mean = np.mean(vid_acc)\n",
        "audio_mean = np.mean(aud_acc)\n",
        "bimod_mean = np.mean(bimod_acc)\n",
        "\n",
        "#std\n",
        "video_std = np.std(vid_acc)\n",
        "audio_std = np.std(aud_acc)\n",
        "bimod_std = np.std(bimod_acc)\n",
        "\n",
        "#data\n",
        "models = ['Video', 'Audio', 'Bimodal']\n",
        "x_pos = np.arange(len(models))\n",
        "mod_means = [video_mean, audio_mean, bimod_mean]\n",
        "mod_errors = [video_std, audio_std, bimod_std]\n",
        "\n",
        "#figure\n",
        "fig, ax = plt.subplots(figsize = (8, 5))\n",
        "ax.bar(x_pos, mod_means, yerr = mod_errors, align = 'center', alpha = 0.5, ecolor = 'black', capsize = 10)\n",
        "ax.scatter(np.zeros(len(vid_acc))- 0.2, vid_acc)\n",
        "ax.scatter(np.ones(len(aud_acc))- 0.2, aud_acc)\n",
        "ax.scatter(np.ones(len(bimod_acc))*2 - 0.2, bimod_acc)\n",
        "ax.set_ylabel('Model Accuracies', fontsize =  13)\n",
        "ax.set_ylim([0.7, 1])\n",
        "ax.set_xticks(x_pos)\n",
        "ax.set_xticklabels(models, fontsize = 13)\n",
        "ax.set_title('Performance of each model', fontsize = 18)\n",
        "\n",
        "plt.tight_layout()\n",
        "plt.show()"
      ],
      "execution_count": null,
      "outputs": [
        {
          "output_type": "display_data",
          "data": {
            "image/png": "[encoded data removed]",
            "text/plain": [
              "<Figure size 576x360 with 1 Axes>"
            ]
          },
          "metadata": {
            "needs_background": "light"
          }
        }
      ]
    },
    {
      "cell_type": "code",
      "metadata": {
        "id": "maAyUPE-60Nh"
      },
      "source": [
        ""
      ],
      "execution_count": null,
      "outputs": []
    }
  ]
}